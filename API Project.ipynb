{
 "cells": [
  {
   "cell_type": "code",
   "execution_count": 1,
   "id": "06b7dc59-0dac-4672-9e8d-6f1d96afe4a2",
   "metadata": {},
   "outputs": [
    {
     "name": "stdout",
     "output_type": "stream",
     "text": [
      "[{'breeds': [{'weight': {'imperial': '30 - 150', 'metric': '14 - 68'}, 'height': {'imperial': '14 - 17', 'metric': '36 - 43'}, 'id': 11, 'name': 'American Bully', 'country_code': 'US', 'bred_for': 'Family companion dog', 'breed_group': '', 'life_span': '8 – 15 years', 'temperament': 'Strong Willed, Stubborn, Friendly, Clownish, Affectionate, Loyal, Obedient, Intelligent, Courageous', 'reference_image_id': 'sqQJDtbpY'}], 'id': 'cEt0LCueL', 'url': 'https://cdn2.thedogapi.com/images/cEt0LCueL.jpg', 'width': 1280, 'height': 720}]\n"
     ]
    }
   ],
   "source": [
    "import requests\n",
    "\n",
    "# Define request headers with your API key\n",
    "headers = {\n",
    "    \"Content-Type\": \"application/json\",\n",
    "    \"x-api-key\": \"live_ug5vVDWVlYvVShkTuqECIRm59hVSy0bDsKnuOJhnQ9M8iOYgqTmfBx2jWSvoYS75\"\n",
    "}\n",
    "\n",
    "# Define the URL for the request\n",
    "url = \"https://api.thedogapi.com/v1/images/search\"\n",
    "\n",
    "# Define query parameters\n",
    "params = {\n",
    "    \"size\": \"med\",\n",
    "    \"mime_types\": \"jpg\",\n",
    "    \"format\": \"json\",\n",
    "    \"has_breeds\": \"true\",\n",
    "    \"order\": \"RANDOM\",\n",
    "    \"page\": \"0\",\n",
    "    \"limit\": \"1\"\n",
    "}\n",
    "\n",
    "# Make the GET request to the API\n",
    "try:\n",
    "    response = requests.get(url, headers=headers, params=params)\n",
    "    data = response.json()\n",
    "    print(data)\n",
    "except Exception as e:\n",
    "    print(\"An error occurred:\", e)\n"
   ]
  }
 ],
 "metadata": {
  "kernelspec": {
   "display_name": "Python 3 (ipykernel)",
   "language": "python",
   "name": "python3"
  },
  "language_info": {
   "codemirror_mode": {
    "name": "ipython",
    "version": 3
   },
   "file_extension": ".py",
   "mimetype": "text/x-python",
   "name": "python",
   "nbconvert_exporter": "python",
   "pygments_lexer": "ipython3",
   "version": "3.11.7"
  }
 },
 "nbformat": 4,
 "nbformat_minor": 5
}
